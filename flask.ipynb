{
 "cells": [
  {
   "cell_type": "code",
   "execution_count": null,
   "id": "f07af946-cca7-4d77-989f-43ed54865995",
   "metadata": {},
   "outputs": [],
   "source": [
    "from flask import Flask, request\n",
    "\n",
    "app = Flask(__name__)\n",
    "\n",
    "@app.route(\"/\", methods=['POST'])\n",
    "def ping():\n",
    "\n",
    "    return \"Success\"\n",
    "\n",
    "@app.route(\"/ping_user\", methods=['POST'])\n",
    "def ping_user():\n",
    "    print(request)\n",
    "    name=request.args.get('username')\n",
    "\n",
    "    return f\"\"Salam {name} server'a hos geldiniz...\"\"\n",
    "\n",
    "if __name__ == '__main__':\n",
    "    app.run(port=5000)\n"
   ]
  },
  {
   "cell_type": "code",
   "execution_count": null,
   "id": "1024afe5-c2b6-49eb-9056-ec7becc4db59",
   "metadata": {},
   "outputs": [],
   "source": []
  }
 ],
 "metadata": {
  "kernelspec": {
   "display_name": "Python [conda env:base] *",
   "language": "python",
   "name": "conda-base-py"
  },
  "language_info": {
   "codemirror_mode": {
    "name": "ipython",
    "version": 3
   },
   "file_extension": ".py",
   "mimetype": "text/x-python",
   "name": "python",
   "nbconvert_exporter": "python",
   "pygments_lexer": "ipython3",
   "version": "3.12.7"
  }
 },
 "nbformat": 4,
 "nbformat_minor": 5
}
